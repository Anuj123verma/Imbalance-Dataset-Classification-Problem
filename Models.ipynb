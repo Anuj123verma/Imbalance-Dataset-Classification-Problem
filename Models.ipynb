{
  "nbformat": 4,
  "nbformat_minor": 0,
  "metadata": {
    "colab": {
      "name": "A2_2017026_AnujVerma_2017092_SakshiSaini",
      "provenance": [],
      "collapsed_sections": []
    },
    "kernelspec": {
      "name": "python3",
      "display_name": "Python 3"
    }
  },
  "cells": [
    {
      "cell_type": "code",
      "metadata": {
        "id": "LTAzIU_y3N8C"
      },
      "source": [
        "import zipfile\n",
        "import pandas as pd\n",
        "import numpy as np\n",
        "from sklearn.tree import DecisionTreeClassifier\n",
        "from sklearn.ensemble import RandomForestClassifier\n",
        "from sklearn.metrics import roc_auc_score\n",
        "from sklearn.model_selection import train_test_split\n",
        "from sklearn.decomposition import PCA\n",
        "from collections import Counter\n",
        "from sklearn.utils import resample\n",
        "import matplotlib.pyplot as plt\n",
        "from sklearn.metrics import confusion_matrix\n",
        "from imblearn.over_sampling import SMOTE\n",
        "from sklearn.model_selection import GridSearchCV\n",
        "from sklearn.metrics import f1_score, precision_score, recall_score\n",
        "from sklearn.ensemble import GradientBoostingClassifier"
      ],
      "execution_count": null,
      "outputs": []
    },
    {
      "cell_type": "code",
      "metadata": {
        "id": "QArZrwtL3Q7c"
      },
      "source": [
        "filename = \"given_dataset.csv.zip\"\n",
        "with zipfile.ZipFile(filename, 'r') as zip_ref:\n",
        "    zip_ref.extractall()"
      ],
      "execution_count": null,
      "outputs": []
    },
    {
      "cell_type": "code",
      "metadata": {
        "id": "ZqJDg18i3SwL"
      },
      "source": [
        "file = \"given_dataset.csv\"\n",
        "df = pd.read_csv(file)"
      ],
      "execution_count": null,
      "outputs": []
    },
    {
      "cell_type": "code",
      "metadata": {
        "id": "JpIAsDM23Vyt",
        "outputId": "9af25ed2-517d-4eed-820e-92f173033057",
        "colab": {
          "base_uri": "https://localhost:8080/"
        }
      },
      "source": [
        "# from sklearn.preprocessing import KBinsDiscretizer\n",
        "data = df.to_numpy()\n",
        "print(data.shape)\n",
        "Y = data[:, -1]\n",
        "X = data[:, 1:8]\n",
        "Xtrain, Xtest, Ytrain, Ytest = train_test_split(X, Y, test_size=0.3, random_state=42, shuffle=True)"
      ],
      "execution_count": null,
      "outputs": [
        {
          "output_type": "stream",
          "text": [
            "(2041687, 9)\n"
          ],
          "name": "stdout"
        }
      ]
    },
    {
      "cell_type": "code",
      "metadata": {
        "id": "4JWQ8VOD3XvG",
        "outputId": "e656e16e-c2b7-4b97-a3ae-5b6c50fb6fe9",
        "colab": {
          "base_uri": "https://localhost:8080/"
        }
      },
      "source": [
        "print(Xtrain.shape, Xtest.shape, Ytrain.shape, Ytest.shape)\n",
        "cnt = Counter(Ytrain)"
      ],
      "execution_count": null,
      "outputs": [
        {
          "output_type": "stream",
          "text": [
            "(1367930, 7) (673757, 7) (1367930,) (673757,)\n"
          ],
          "name": "stdout"
        },
        {
          "output_type": "execute_result",
          "data": {
            "text/plain": [
              "Counter({0.0: 19483, 1.0: 1348447})"
            ]
          },
          "metadata": {
            "tags": []
          },
          "execution_count": 181
        }
      ]
    },
    {
      "cell_type": "code",
      "metadata": {
        "id": "XSbrE8tD3fyQ",
        "outputId": "174037ed-c801-4d0d-c8b1-bf6906888124",
        "colab": {
          "base_uri": "https://localhost:8080/",
          "height": 121
        }
      },
      "source": [
        "decision_tree = DecisionTreeClassifier( max_leaf_nodes = 25, max_depth = 15, class_weight='balanced',\n",
        "                                       max_features=7, random_state=20, criterion='gini', min_samples_leaf=20)\n",
        "\n",
        "decision_tree.fit(X, Y)"
      ],
      "execution_count": null,
      "outputs": [
        {
          "output_type": "execute_result",
          "data": {
            "text/plain": [
              "DecisionTreeClassifier(ccp_alpha=0.0, class_weight='balanced', criterion='gini',\n",
              "                       max_depth=15, max_features=7, max_leaf_nodes=25,\n",
              "                       min_impurity_decrease=0.0, min_impurity_split=None,\n",
              "                       min_samples_leaf=20, min_samples_split=2,\n",
              "                       min_weight_fraction_leaf=0.0, presort='deprecated',\n",
              "                       random_state=20, splitter='best')"
            ]
          },
          "metadata": {
            "tags": []
          },
          "execution_count": 103
        }
      ]
    },
    {
      "cell_type": "code",
      "metadata": {
        "id": "D46mygwD4cJD",
        "outputId": "f9a255d0-6802-44ea-b574-5c46f3902d28",
        "colab": {
          "base_uri": "https://localhost:8080/",
          "height": 35
        }
      },
      "source": [
        "prediction = decision_tree.predict(Xtest)\n",
        "roc_auc_score(Ytest, prediction)"
      ],
      "execution_count": null,
      "outputs": [
        {
          "output_type": "execute_result",
          "data": {
            "text/plain": [
              "0.6945315493669406"
            ]
          },
          "metadata": {
            "tags": []
          },
          "execution_count": 105
        }
      ]
    },
    {
      "cell_type": "code",
      "metadata": {
        "id": "b0MGvAS_7lFb",
        "outputId": "6198f3ae-1e41-4ee0-de82-4e311fe3f17e",
        "colab": {
          "base_uri": "https://localhost:8080/",
          "height": 52
        }
      },
      "source": [
        "confusion_matrix(Ytest, prediction)"
      ],
      "execution_count": null,
      "outputs": [
        {
          "output_type": "execute_result",
          "data": {
            "text/plain": [
              "array([[  6732,   2795],\n",
              "       [210933, 453297]])"
            ]
          },
          "metadata": {
            "tags": []
          },
          "execution_count": 106
        }
      ]
    },
    {
      "cell_type": "code",
      "metadata": {
        "id": "D0NrGezeZRp0"
      },
      "source": [
        "from sklearn.ensemble import BaggingClassifier\n",
        "bag_tree = BaggingClassifier(\n",
        "    DecisionTreeClassifier( max_leaf_nodes = 25, max_depth = 15, class_weight='balanced',\n",
        "                                       max_features=7, random_state=20, criterion='gini', min_samples_leaf=20),\n",
        "                             oob_score= True, verbose = 1, bootstrap_features = True, n_jobs = 4, n_estimators = 10\n",
        ")  \n",
        "bag_tree.fit(X, Y)"
      ],
      "execution_count": null,
      "outputs": []
    },
    {
      "cell_type": "code",
      "metadata": {
        "id": "TCyvsWXD7qzS",
        "outputId": "91889315-f845-415d-b600-306c812f3d48",
        "colab": {
          "base_uri": "https://localhost:8080/",
          "height": 87
        }
      },
      "source": [
        "prediction = bag_tree.predict(Xtest)\n",
        "roc_auc_score(Ytest, prediction)"
      ],
      "execution_count": null,
      "outputs": [
        {
          "output_type": "stream",
          "text": [
            "[Parallel(n_jobs=4)]: Using backend LokyBackend with 4 concurrent workers.\n",
            "[Parallel(n_jobs=4)]: Done   2 out of   4 | elapsed:    0.7s remaining:    0.7s\n",
            "[Parallel(n_jobs=4)]: Done   4 out of   4 | elapsed:    0.8s finished\n"
          ],
          "name": "stderr"
        },
        {
          "output_type": "execute_result",
          "data": {
            "text/plain": [
              "0.7307596362426932"
            ]
          },
          "metadata": {
            "tags": []
          },
          "execution_count": 133
        }
      ]
    },
    {
      "cell_type": "code",
      "metadata": {
        "id": "EIPoWvG78Xyz",
        "outputId": "41eca923-ac3b-4308-e142-552ef25be5f4",
        "colab": {
          "base_uri": "https://localhost:8080/",
          "height": 52
        }
      },
      "source": [
        "confusion_matrix(Ytest, prediction)"
      ],
      "execution_count": null,
      "outputs": [
        {
          "output_type": "execute_result",
          "data": {
            "text/plain": [
              "array([[  6687,   2840],\n",
              "       [159668, 504562]])"
            ]
          },
          "metadata": {
            "tags": []
          },
          "execution_count": 134
        }
      ]
    },
    {
      "cell_type": "code",
      "metadata": {
        "id": "GCEbVTiXbLgQ",
        "outputId": "24a77def-81a3-4f92-a8bf-a2c9a27bf1a6",
        "colab": {
          "base_uri": "https://localhost:8080/",
          "height": 87
        }
      },
      "source": [
        "BaggingClassifier()"
      ],
      "execution_count": null,
      "outputs": [
        {
          "output_type": "execute_result",
          "data": {
            "text/plain": [
              "BaggingClassifier(base_estimator=None, bootstrap=True, bootstrap_features=False,\n",
              "                  max_features=1.0, max_samples=1.0, n_estimators=10,\n",
              "                  n_jobs=None, oob_score=False, random_state=None, verbose=0,\n",
              "                  warm_start=False)"
            ]
          },
          "metadata": {
            "tags": []
          },
          "execution_count": 113
        }
      ]
    },
    {
      "cell_type": "code",
      "metadata": {
        "id": "IquOf6Itj9aJ",
        "outputId": "6aaf6fde-35ae-4ebe-ebe3-450df6e1b2ec",
        "colab": {
          "base_uri": "https://localhost:8080/"
        }
      },
      "source": [
        "# from sklearn.ensemble import AdaBoostClassifier\n",
        "\n",
        "sm = SMOTE(random_state=27, ratio=1)\n",
        "Xtraine, Ytraine = sm.fit_sample(Xtrain, Ytrain)\n",
        "\n",
        "# ada_boost = AdaBoostClassifier(n_estimators=50, random_state=0)\n",
        "# ada_boost.fit(Xtraine, Ytrain)"
      ],
      "execution_count": null,
      "outputs": [
        {
          "output_type": "stream",
          "text": [
            "/usr/local/lib/python3.6/dist-packages/sklearn/utils/deprecation.py:87: FutureWarning: Function safe_indexing is deprecated; safe_indexing is deprecated in version 0.22 and will be removed in version 0.24.\n",
            "  warnings.warn(msg, category=FutureWarning)\n"
          ],
          "name": "stderr"
        }
      ]
    },
    {
      "cell_type": "code",
      "metadata": {
        "id": "_ppWYPbBkdgs",
        "outputId": "cce01185-37cd-48f8-a735-ecf9291c4523",
        "colab": {
          "base_uri": "https://localhost:8080/",
          "height": 35
        }
      },
      "source": [
        "# prediction = ada_boost.predict(Xtest)\n",
        "# roc_auc_score(Ytest, prediction)\n",
        "Counter(Ytrain)"
      ],
      "execution_count": null,
      "outputs": [
        {
          "output_type": "execute_result",
          "data": {
            "text/plain": [
              "Counter({0.0: 337111, 1.0: 1348447})"
            ]
          },
          "metadata": {
            "tags": []
          },
          "execution_count": 14
        }
      ]
    },
    {
      "cell_type": "code",
      "metadata": {
        "id": "9ATEGfXmkjKh",
        "outputId": "b081653c-6406-42a0-cff8-fba07f8a6b42",
        "colab": {
          "base_uri": "https://localhost:8080/",
          "height": 52
        }
      },
      "source": [
        "from imblearn.ensemble import BalancedBaggingClassifier\n",
        "\n",
        "bal_tree = BalancedBaggingClassifier( \n",
        "        DecisionTreeClassifier(max_depth=25, random_state=20, min_samples_leaf=20),\n",
        "        oob_score= False, verbose = 1, bootstrap_features = True, n_jobs = 8, n_estimators = 51, warm_start = False) \n",
        "\n",
        "        # DecisionTreeClassifier(max_depth= 26, random_state=20, min_samples_leaf=20),\n",
        "        # oob_score= True, verbose = 1, bootstrap_features = True, n_jobs = 6, n_estimators = 61)\n",
        "\n",
        "bal_tree.fit(Xtraine, Ytrain)"
      ],
      "execution_count": null,
      "outputs": [
        {
          "output_type": "stream",
          "text": [
            "[Parallel(n_jobs=6)]: Using backend LokyBackend with 6 concurrent workers.\n",
            "[Parallel(n_jobs=6)]: Done   2 out of   6 | elapsed:  5.2min remaining: 10.3min\n"
          ],
          "name": "stderr"
        }
      ]
    },
    {
      "cell_type": "code",
      "metadata": {
        "id": "Oud_NMsHkjGm",
        "outputId": "80ebef6f-0e7e-445b-fd66-dba5d83ab7f0",
        "colab": {
          "base_uri": "https://localhost:8080/",
          "height": 87
        }
      },
      "source": [
        "prediction = bal_tree.predict(Xtest)\n",
        "roc_auc_score(Ytest, prediction)\n",
        "\n",
        "# DecisionTreeClassifier(max_depth=24, random_state=20, min_samples_leaf=20),\n",
        "        # oob_score= True, verbose = 1, bootstrap_features = True, n_jobs = 6, n_estimators = 35)\n",
        "        # 0.7856892081999828"
      ],
      "execution_count": null,
      "outputs": [
        {
          "output_type": "stream",
          "text": [
            "[Parallel(n_jobs=6)]: Using backend LokyBackend with 6 concurrent workers.\n",
            "[Parallel(n_jobs=6)]: Done   2 out of   6 | elapsed:    5.9s remaining:   11.8s\n",
            "[Parallel(n_jobs=6)]: Done   6 out of   6 | elapsed:    7.6s finished\n"
          ],
          "name": "stderr"
        },
        {
          "output_type": "execute_result",
          "data": {
            "text/plain": [
              "0.7827742255032519"
            ]
          },
          "metadata": {
            "tags": []
          },
          "execution_count": 12
        }
      ]
    },
    {
      "cell_type": "code",
      "metadata": {
        "id": "5zMNwny8kjDw",
        "outputId": "1eca8edd-55b3-43c2-f016-bee0f7bfd056",
        "colab": {
          "base_uri": "https://localhost:8080/",
          "height": 52
        }
      },
      "source": [
        "confusion_matrix(Ytest, prediction)"
      ],
      "execution_count": null,
      "outputs": [
        {
          "output_type": "execute_result",
          "data": {
            "text/plain": [
              "array([[  7034,   2493],\n",
              "       [109827, 554403]])"
            ]
          },
          "metadata": {
            "tags": []
          },
          "execution_count": 91
        }
      ]
    },
    {
      "cell_type": "code",
      "metadata": {
        "id": "A2a1bgXhuwho",
        "outputId": "babfd0bc-bef5-4f55-89df-8b96d792ce90",
        "colab": {
          "base_uri": "https://localhost:8080/",
          "height": 156
        }
      },
      "source": [
        "RandomForestClassifier()"
      ],
      "execution_count": null,
      "outputs": [
        {
          "output_type": "execute_result",
          "data": {
            "text/plain": [
              "RandomForestClassifier(bootstrap=True, ccp_alpha=0.0, class_weight=None,\n",
              "                       criterion='gini', max_depth=None, max_features='auto',\n",
              "                       max_leaf_nodes=None, max_samples=None,\n",
              "                       min_impurity_decrease=0.0, min_impurity_split=None,\n",
              "                       min_samples_leaf=1, min_samples_split=2,\n",
              "                       min_weight_fraction_leaf=0.0, n_estimators=100,\n",
              "                       n_jobs=None, oob_score=False, random_state=None,\n",
              "                       verbose=0, warm_start=False)"
            ]
          },
          "metadata": {
            "tags": []
          },
          "execution_count": 10
        }
      ]
    },
    {
      "cell_type": "code",
      "metadata": {
        "id": "WVceY3i6uwbJ"
      },
      "source": [
        "from imblearn.ensemble import BalancedRandomForestClassifier\n",
        "balencedRF = BalancedRandomForestClassifier(max_depth=50,random_state=0)\n",
        "balencedRF.fit(Xtrain, Ytrain)"
      ],
      "execution_count": null,
      "outputs": []
    },
    {
      "cell_type": "code",
      "metadata": {
        "id": "O_ocpCWRM0QU",
        "outputId": "101ec0db-d22c-435a-dc4c-44b561112579",
        "colab": {
          "base_uri": "https://localhost:8080/",
          "height": 436
        }
      },
      "source": [
        "from imblearn.ensemble import EasyEnsembleClassifier\n",
        "balencedrus = EasyEnsembleClassifier(  )\n",
        "balencedrus.fit(Xtrain, Ytrain)"
      ],
      "execution_count": null,
      "outputs": [
        {
          "output_type": "stream",
          "text": [
            "/usr/local/lib/python3.6/dist-packages/sklearn/utils/deprecation.py:87: FutureWarning: Function safe_indexing is deprecated; safe_indexing is deprecated in version 0.22 and will be removed in version 0.24.\n",
            "  warnings.warn(msg, category=FutureWarning)\n",
            "/usr/local/lib/python3.6/dist-packages/sklearn/utils/deprecation.py:87: FutureWarning: Function safe_indexing is deprecated; safe_indexing is deprecated in version 0.22 and will be removed in version 0.24.\n",
            "  warnings.warn(msg, category=FutureWarning)\n",
            "/usr/local/lib/python3.6/dist-packages/sklearn/utils/deprecation.py:87: FutureWarning: Function safe_indexing is deprecated; safe_indexing is deprecated in version 0.22 and will be removed in version 0.24.\n",
            "  warnings.warn(msg, category=FutureWarning)\n",
            "/usr/local/lib/python3.6/dist-packages/sklearn/utils/deprecation.py:87: FutureWarning: Function safe_indexing is deprecated; safe_indexing is deprecated in version 0.22 and will be removed in version 0.24.\n",
            "  warnings.warn(msg, category=FutureWarning)\n",
            "/usr/local/lib/python3.6/dist-packages/sklearn/utils/deprecation.py:87: FutureWarning: Function safe_indexing is deprecated; safe_indexing is deprecated in version 0.22 and will be removed in version 0.24.\n",
            "  warnings.warn(msg, category=FutureWarning)\n",
            "/usr/local/lib/python3.6/dist-packages/sklearn/utils/deprecation.py:87: FutureWarning: Function safe_indexing is deprecated; safe_indexing is deprecated in version 0.22 and will be removed in version 0.24.\n",
            "  warnings.warn(msg, category=FutureWarning)\n",
            "/usr/local/lib/python3.6/dist-packages/sklearn/utils/deprecation.py:87: FutureWarning: Function safe_indexing is deprecated; safe_indexing is deprecated in version 0.22 and will be removed in version 0.24.\n",
            "  warnings.warn(msg, category=FutureWarning)\n",
            "/usr/local/lib/python3.6/dist-packages/sklearn/utils/deprecation.py:87: FutureWarning: Function safe_indexing is deprecated; safe_indexing is deprecated in version 0.22 and will be removed in version 0.24.\n",
            "  warnings.warn(msg, category=FutureWarning)\n",
            "/usr/local/lib/python3.6/dist-packages/sklearn/utils/deprecation.py:87: FutureWarning: Function safe_indexing is deprecated; safe_indexing is deprecated in version 0.22 and will be removed in version 0.24.\n",
            "  warnings.warn(msg, category=FutureWarning)\n",
            "/usr/local/lib/python3.6/dist-packages/sklearn/utils/deprecation.py:87: FutureWarning: Function safe_indexing is deprecated; safe_indexing is deprecated in version 0.22 and will be removed in version 0.24.\n",
            "  warnings.warn(msg, category=FutureWarning)\n"
          ],
          "name": "stderr"
        },
        {
          "output_type": "execute_result",
          "data": {
            "text/plain": [
              "EasyEnsembleClassifier(base_estimator=None, n_estimators=10, n_jobs=1,\n",
              "                       random_state=None, replacement=False,\n",
              "                       sampling_strategy='auto', verbose=0, warm_start=False)"
            ]
          },
          "metadata": {
            "tags": []
          },
          "execution_count": 33
        }
      ]
    },
    {
      "cell_type": "code",
      "metadata": {
        "id": "ApTfKtv8M0W3",
        "outputId": "379bfc87-6d3c-4df1-aa67-4dbcaab37918",
        "colab": {
          "base_uri": "https://localhost:8080/",
          "height": 35
        }
      },
      "source": [
        "prediction = balencedrus.predict(Xtest)\n",
        "roc_auc_score(Ytest, prediction)"
      ],
      "execution_count": null,
      "outputs": [
        {
          "output_type": "execute_result",
          "data": {
            "text/plain": [
              "0.6960817508050705"
            ]
          },
          "metadata": {
            "tags": []
          },
          "execution_count": 34
        }
      ]
    },
    {
      "cell_type": "code",
      "metadata": {
        "id": "vSaKMecxM0NG"
      },
      "source": [
        "import warnings\n",
        "warnings.filterwarnings(\"ignore\", category=FutureWarining)"
      ],
      "execution_count": null,
      "outputs": []
    },
    {
      "cell_type": "code",
      "metadata": {
        "id": "WPwNBEuYY8t9"
      },
      "source": [
        "pred_filename = \"to_predict.csv.zip\"\n",
        "with zipfile.ZipFile(pred_filename, 'r') as zip_ref:\n",
        "    zip_ref.extractall()\n",
        "file_name = \"to_predict.csv\"\n",
        "df_pred = pd.read_csv(file_name)\n"
      ],
      "execution_count": null,
      "outputs": []
    },
    {
      "cell_type": "code",
      "metadata": {
        "id": "N5UT3-dRY8qW",
        "outputId": "7bf757ec-9de8-4e77-acb9-ae3347ed3b54",
        "colab": {
          "base_uri": "https://localhost:8080/",
          "height": 69
        }
      },
      "source": [
        "prediction = bal_tree.predict(df_pred.to_numpy()[:, 1:])\n",
        "df_pred = pd.DataFrame(data = prediction,  \n",
        "                  index = df_pred.iloc[ : ,0]) \n",
        "df_pred.rename(columns={0: \"T\"}, inplace = True)\n",
        "df_pred.to_csv('output.csv')"
      ],
      "execution_count": null,
      "outputs": [
        {
          "output_type": "stream",
          "text": [
            "[Parallel(n_jobs=6)]: Using backend LokyBackend with 6 concurrent workers.\n",
            "[Parallel(n_jobs=6)]: Done   2 out of   6 | elapsed:    3.5s remaining:    7.1s\n",
            "[Parallel(n_jobs=6)]: Done   6 out of   6 | elapsed:    4.5s finished\n"
          ],
          "name": "stderr"
        }
      ]
    },
    {
      "cell_type": "code",
      "metadata": {
        "id": "QNM2psWaaCHd"
      },
      "source": [
        "from sklearn.datasets import make_classification\n",
        "X, y = make_classification(n_samples=1000, n_classes=3,\n",
        "                           n_informative=4, weights=[0.2, 0.3, 0.5],\n",
        "                           random_state=0)"
      ],
      "execution_count": null,
      "outputs": []
    },
    {
      "cell_type": "code",
      "metadata": {
        "id": "aJmXJG-IaN3t",
        "outputId": "d7c09b01-38bc-4e1f-bca3-1d9aa2c4777b",
        "colab": {
          "base_uri": "https://localhost:8080/",
          "height": 35
        }
      },
      "source": [
        "X.shape"
      ],
      "execution_count": null,
      "outputs": [
        {
          "output_type": "execute_result",
          "data": {
            "text/plain": [
              "(1000, 20)"
            ]
          },
          "metadata": {
            "tags": []
          },
          "execution_count": 5
        }
      ]
    },
    {
      "cell_type": "code",
      "metadata": {
        "id": "Br7QcAh4aNzW"
      },
      "source": [
        "# from imblearn.ensemble import BalancedRandomForestClassifier\n",
        "# balencedRF = BalancedRandomForestClassifier(max_depth=50,random_state=0)\n",
        "# balencedRF.fit(X, y)"
      ],
      "execution_count": null,
      "outputs": []
    },
    {
      "cell_type": "code",
      "metadata": {
        "id": "iUPJF2xvm58y",
        "outputId": "b4e0d65d-a777-4b74-8b06-6ea80aa7bfbd",
        "colab": {
          "base_uri": "https://localhost:8080/",
          "height": 208
        }
      },
      "source": [
        "# rfclass = RandomForestClassifier(random_state=0, n_jobs=4, n_estimators=43, \n",
        "#                                  class_weight=\"balanced_subsample\", max_depth=14, verbose = 1)\n",
        "\n",
        "rfclass = RandomForestClassifier(random_state=0, max_depth = 20, class_weight={0: 100, 1: 1}, \n",
        "                                 n_jobs=4, n_estimators= 101,verbose = 1)\n",
        "rfclass.fit(X_res, y_res)"
      ],
      "execution_count": null,
      "outputs": [
        {
          "output_type": "stream",
          "text": [
            "[Parallel(n_jobs=4)]: Using backend ThreadingBackend with 4 concurrent workers.\n",
            "[Parallel(n_jobs=4)]: Done  42 tasks      | elapsed:    1.8s\n",
            "[Parallel(n_jobs=4)]: Done 101 out of 101 | elapsed:    4.2s finished\n"
          ],
          "name": "stderr"
        },
        {
          "output_type": "execute_result",
          "data": {
            "text/plain": [
              "RandomForestClassifier(bootstrap=True, ccp_alpha=0.0,\n",
              "                       class_weight={0: 100, 1: 1}, criterion='gini',\n",
              "                       max_depth=20, max_features='auto', max_leaf_nodes=None,\n",
              "                       max_samples=None, min_impurity_decrease=0.0,\n",
              "                       min_impurity_split=None, min_samples_leaf=1,\n",
              "                       min_samples_split=2, min_weight_fraction_leaf=0.0,\n",
              "                       n_estimators=101, n_jobs=4, oob_score=False,\n",
              "                       random_state=0, verbose=1, warm_start=False)"
            ]
          },
          "metadata": {
            "tags": []
          },
          "execution_count": 89
        }
      ]
    },
    {
      "cell_type": "code",
      "metadata": {
        "id": "PHpSQmvJm5rp",
        "outputId": "4eac899b-bcf8-4eb5-e675-aa459beaa1cf",
        "colab": {
          "base_uri": "https://localhost:8080/",
          "height": 87
        }
      },
      "source": [
        "prediction = rfclass.predict(Xtest)\n",
        "roc_auc_score(Ytest, prediction)"
      ],
      "execution_count": null,
      "outputs": [
        {
          "output_type": "stream",
          "text": [
            "[Parallel(n_jobs=4)]: Using backend ThreadingBackend with 4 concurrent workers.\n",
            "[Parallel(n_jobs=4)]: Done  42 tasks      | elapsed:    3.3s\n",
            "[Parallel(n_jobs=4)]: Done 101 out of 101 | elapsed:    7.8s finished\n"
          ],
          "name": "stderr"
        },
        {
          "output_type": "execute_result",
          "data": {
            "text/plain": [
              "0.6441801887294092"
            ]
          },
          "metadata": {
            "tags": []
          },
          "execution_count": 90
        }
      ]
    },
    {
      "cell_type": "code",
      "metadata": {
        "id": "HqaDGDpqBbiP",
        "outputId": "6d74232b-10e0-40fb-af2a-15d654b8ef65",
        "colab": {
          "base_uri": "https://localhost:8080/"
        }
      },
      "source": [
        "from sklearn.ensemble import RandomForestRegressor\n",
        "\n",
        "# max_depth = 17\n",
        "rfreg = RandomForestRegressor(n_estimators = 500, max_depth = 17, oob_score= True,\n",
        "                              n_jobs = 4, verbose = 1)\n",
        "rfreg.fit(X_res, y_res)"
      ],
      "execution_count": null,
      "outputs": [
        {
          "output_type": "stream",
          "text": [
            "[Parallel(n_jobs=4)]: Using backend ThreadingBackend with 4 concurrent workers.\n",
            "[Parallel(n_jobs=4)]: Done  42 tasks      | elapsed:    3.9s\n",
            "[Parallel(n_jobs=4)]: Done 192 tasks      | elapsed:   17.8s\n",
            "[Parallel(n_jobs=4)]: Done 442 tasks      | elapsed:   40.7s\n",
            "[Parallel(n_jobs=4)]: Done 500 out of 500 | elapsed:   45.9s finished\n"
          ],
          "name": "stderr"
        },
        {
          "output_type": "execute_result",
          "data": {
            "text/plain": [
              "RandomForestRegressor(bootstrap=True, ccp_alpha=0.0, criterion='mse',\n",
              "                      max_depth=17, max_features='auto', max_leaf_nodes=None,\n",
              "                      max_samples=None, min_impurity_decrease=0.0,\n",
              "                      min_impurity_split=None, min_samples_leaf=1,\n",
              "                      min_samples_split=2, min_weight_fraction_leaf=0.0,\n",
              "                      n_estimators=500, n_jobs=4, oob_score=True,\n",
              "                      random_state=None, verbose=1, warm_start=False)"
            ]
          },
          "metadata": {
            "tags": []
          },
          "execution_count": 77
        }
      ]
    },
    {
      "cell_type": "code",
      "metadata": {
        "id": "rD6Oe2pitdKN",
        "outputId": "49a92eea-e417-4b84-a50a-1126a3b83eb5",
        "colab": {
          "base_uri": "https://localhost:8080/"
        }
      },
      "source": [
        "prediction = rfreg.predict(Xtest)\n",
        "roc_auc_score(Ytest, prediction)"
      ],
      "execution_count": null,
      "outputs": [
        {
          "output_type": "stream",
          "text": [
            "[Parallel(n_jobs=4)]: Using backend ThreadingBackend with 4 concurrent workers.\n",
            "[Parallel(n_jobs=4)]: Done  42 tasks      | elapsed:    2.8s\n",
            "[Parallel(n_jobs=4)]: Done 192 tasks      | elapsed:   12.4s\n",
            "[Parallel(n_jobs=4)]: Done 442 tasks      | elapsed:   28.2s\n",
            "[Parallel(n_jobs=4)]: Done 500 out of 500 | elapsed:   31.8s finished\n"
          ],
          "name": "stderr"
        },
        {
          "output_type": "execute_result",
          "data": {
            "text/plain": [
              "0.8609428979925933"
            ]
          },
          "metadata": {
            "tags": []
          },
          "execution_count": 78
        }
      ]
    },
    {
      "cell_type": "code",
      "metadata": {
        "id": "2v8cBB_DtdD0",
        "outputId": "4363ec1d-dbd5-4b47-d9ab-025d9fc37b2d",
        "colab": {
          "base_uri": "https://localhost:8080/"
        }
      },
      "source": [
        ""
      ],
      "execution_count": null,
      "outputs": [
        {
          "output_type": "stream",
          "text": [
            "/usr/local/lib/python3.6/dist-packages/sklearn/utils/deprecation.py:87: FutureWarning: Function safe_indexing is deprecated; safe_indexing is deprecated in version 0.22 and will be removed in version 0.24.\n",
            "  warnings.warn(msg, category=FutureWarning)\n"
          ],
          "name": "stderr"
        }
      ]
    },
    {
      "cell_type": "code",
      "metadata": {
        "id": "ZcxOSybsTxHQ",
        "outputId": "e4fe18ee-00a6-4934-9488-ce6b605d3518",
        "colab": {
          "base_uri": "https://localhost:8080/"
        }
      },
      "source": [
        "Counter(y_res)"
      ],
      "execution_count": null,
      "outputs": [
        {
          "output_type": "execute_result",
          "data": {
            "text/plain": [
              "Counter({0.0: 19483, 1.0: 19483})"
            ]
          },
          "metadata": {
            "tags": []
          },
          "execution_count": 183
        }
      ]
    },
    {
      "cell_type": "code",
      "metadata": {
        "id": "dmnwycD4e__J",
        "outputId": "4f02a7ca-132a-4ce9-b97c-adbe64e817e2",
        "colab": {
          "base_uri": "https://localhost:8080/"
        }
      },
      "source": [
        "from imblearn.over_sampling import RandomOverSampler\n",
        "oversample = RandomOverSampler(sampling_strategy='0.5')\n",
        "X_res1, y_res1 = oversample.fit_resample(Xtrain, Ytrain)"
      ],
      "execution_count": null,
      "outputs": [
        {
          "output_type": "stream",
          "text": [
            "/usr/local/lib/python3.6/dist-packages/sklearn/utils/deprecation.py:87: FutureWarning: Function safe_indexing is deprecated; safe_indexing is deprecated in version 0.22 and will be removed in version 0.24.\n",
            "  warnings.warn(msg, category=FutureWarning)\n"
          ],
          "name": "stderr"
        }
      ]
    },
    {
      "cell_type": "code",
      "metadata": {
        "id": "IaVBd3eP0wPx",
        "outputId": "b40e0653-d373-436a-ab32-01b5c3197285",
        "colab": {
          "base_uri": "https://localhost:8080/"
        }
      },
      "source": [
        "Counter(y_res1)"
      ],
      "execution_count": null,
      "outputs": [
        {
          "output_type": "execute_result",
          "data": {
            "text/plain": [
              "Counter({0.0: 1348447, 1.0: 1348447})"
            ]
          },
          "metadata": {
            "tags": []
          },
          "execution_count": 412
        }
      ]
    },
    {
      "cell_type": "code",
      "metadata": {
        "id": "IXpIaBPvT0FR"
      },
      "source": [
        "from xgboost import XGBClassifier\n",
        "# 20 350\n",
        "model = XGBClassifier(n_jobs = 4, max_depth = 38, \n",
        "                      n_estimators=450, verbosity=0)\n",
        "model.fit(X_res, y_res)"
      ],
      "execution_count": null,
      "outputs": []
    },
    {
      "cell_type": "code",
      "metadata": {
        "id": "Req3R5QUUGAf",
        "outputId": "ca924544-2723-4422-c41b-cf4f3c0aa4ce",
        "colab": {
          "base_uri": "https://localhost:8080/"
        }
      },
      "source": [
        "prediction = model.predict_proba(Xtest)\n",
        "pred = prediction[:, 1]\n",
        "roc_auc_score(Ytest, pred)"
      ],
      "execution_count": null,
      "outputs": [
        {
          "output_type": "execute_result",
          "data": {
            "text/plain": [
              "0.8695870332695581"
            ]
          },
          "metadata": {
            "tags": []
          },
          "execution_count": 90
        }
      ]
    },
    {
      "cell_type": "code",
      "metadata": {
        "id": "53xXkhlzrkz2",
        "outputId": "aead21b2-36b5-45d4-9aa8-53f332de38e1",
        "colab": {
          "base_uri": "https://localhost:8080/"
        }
      },
      "source": [
        "from sklearn.ensemble import GradientBoostingClassifier\n",
        "# 7, 300\n",
        "# 0.8800296303204439 8 - 300\n",
        "# gradboost = GradientBoostingClassifier(max_depth = 8, n_estimators = 250, \n",
        "#                                        validation_fraction= 0.2, subsample= 0.8, \n",
        "#                                        max_features = 'auto', \n",
        "#                                        warm_start = True, min_samples_split = 3)\n",
        "# gradboost.fit(X_res, y_res)\n",
        "\n",
        "from sklearn.ensemble import GradientBoostingRegressor\n",
        "gradboostreg = GradientBoostingRegressor(max_depth = 8, n_estimators = 350, \n",
        "                                        validation_fraction= 0.25, \n",
        "                                        subsample = 0.9\n",
        "                                       )\n",
        "gradboostreg.fit(X_res, y_res)"
      ],
      "execution_count": null,
      "outputs": [
        {
          "output_type": "execute_result",
          "data": {
            "text/plain": [
              "GradientBoostingRegressor(alpha=0.9, ccp_alpha=0.0, criterion='friedman_mse',\n",
              "                          init=None, learning_rate=0.1, loss='ls', max_depth=8,\n",
              "                          max_features=None, max_leaf_nodes=None,\n",
              "                          min_impurity_decrease=0.0, min_impurity_split=None,\n",
              "                          min_samples_leaf=1, min_samples_split=2,\n",
              "                          min_weight_fraction_leaf=0.0, n_estimators=350,\n",
              "                          n_iter_no_change=None, presort='deprecated',\n",
              "                          random_state=None, subsample=0.9, tol=0.0001,\n",
              "                          validation_fraction=0.25, verbose=0,\n",
              "                          warm_start=False)"
            ]
          },
          "metadata": {
            "tags": []
          },
          "execution_count": 247
        }
      ]
    },
    {
      "cell_type": "code",
      "metadata": {
        "id": "TQYWPFytrkw5",
        "outputId": "8adfdb96-9abe-4dce-904f-9f62d79de8d9",
        "colab": {
          "base_uri": "https://localhost:8080/"
        }
      },
      "source": [
        "# prediction = gradboost.predict_proba(Xtest)\n",
        "# pred = prediction[:, 1] \n",
        "\n",
        "prediction = gradboostreg.predict(Xtest)\n",
        "roc_auc_score(Ytest, prediction)\n",
        "# 0.8811133892182161"
      ],
      "execution_count": null,
      "outputs": [
        {
          "output_type": "execute_result",
          "data": {
            "text/plain": [
              "0.8771125266933775"
            ]
          },
          "metadata": {
            "tags": []
          },
          "execution_count": 248
        }
      ]
    },
    {
      "cell_type": "code",
      "metadata": {
        "id": "k1PyAQGK8wZo",
        "outputId": "96efd896-d7cd-4990-85cb-b75d42094f84",
        "colab": {
          "base_uri": "https://localhost:8080/"
        }
      },
      "source": [
        "from xgboost import XGBRegressor\n",
        "\n",
        "# 9 350\n",
        "# 0.882\n",
        "# 88.257\n",
        "model = XGBRegressor(n_jobs = 4,max_depth =9,objective='reg:logistic',learning_rate=0.09, subsample=0.9,n_estimators=5000,\n",
        "                     reg_alpha=0.005, min_child_weight=6,colsample_bytree=0.9,seed=27)\n",
        "model.fit(X_res, y_res)"
      ],
      "execution_count": null,
      "outputs": [
        {
          "output_type": "execute_result",
          "data": {
            "text/plain": [
              "XGBRegressor(base_score=0.5, booster='gbtree', colsample_bylevel=1,\n",
              "             colsample_bynode=1, colsample_bytree=0.9, gamma=0,\n",
              "             importance_type='gain', learning_rate=0.09, max_delta_step=0,\n",
              "             max_depth=9, min_child_weight=6, missing=None, n_estimators=5000,\n",
              "             n_jobs=4, nthread=None, objective='reg:logistic', random_state=0,\n",
              "             reg_alpha=0.005, reg_lambda=1, scale_pos_weight=1, seed=27,\n",
              "             silent=None, subsample=0.9, verbosity=1)"
            ]
          },
          "metadata": {
            "tags": []
          },
          "execution_count": 430
        }
      ]
    },
    {
      "cell_type": "markdown",
      "metadata": {
        "id": "_MiC5ozItn7b"
      },
      "source": [
        ""
      ]
    },
    {
      "cell_type": "code",
      "metadata": {
        "id": "jtvEmKr5fDIW",
        "outputId": "0f384ad4-0bd2-4d59-9368-bcefcf4400f8",
        "colab": {
          "base_uri": "https://localhost:8080/"
        }
      },
      "source": [
        "from imblearn.under_sampling import RandomUnderSampler\n",
        "rus = RandomUnderSampler(sampling_strategy=0.2)\n",
        "X_res, y_res = rus.fit_resample(Xtrain, Ytrain)"
      ],
      "execution_count": null,
      "outputs": [
        {
          "output_type": "stream",
          "text": [
            "/usr/local/lib/python3.6/dist-packages/sklearn/utils/deprecation.py:87: FutureWarning: Function safe_indexing is deprecated; safe_indexing is deprecated in version 0.22 and will be removed in version 0.24.\n",
            "  warnings.warn(msg, category=FutureWarning)\n"
          ],
          "name": "stderr"
        }
      ]
    },
    {
      "cell_type": "code",
      "metadata": {
        "id": "5CwTrdygIUbw",
        "outputId": "24dbc04d-4dfb-4e24-a63e-f88cc63c95f0",
        "colab": {
          "base_uri": "https://localhost:8080/"
        }
      },
      "source": [
        "from xgboost import XGBRegressor\n",
        "# 9 350\n",
        "# 0.882\n",
        "# 88.257\n",
        "model = XGBRegressor(n_jobs = 4,max_depth =9,objective='reg:logistic',learning_rate=0.09, subsample=0.9,n_estimators=300)\n",
        "model.fit(X_res, y_res)"
      ],
      "execution_count": null,
      "outputs": [
        {
          "output_type": "execute_result",
          "data": {
            "text/plain": [
              "XGBRegressor(base_score=0.5, booster='gbtree', colsample_bylevel=1,\n",
              "             colsample_bynode=1, colsample_bytree=1, gamma=0,\n",
              "             importance_type='gain', learning_rate=0.09, max_delta_step=0,\n",
              "             max_depth=9, min_child_weight=1, missing=None, n_estimators=300,\n",
              "             n_jobs=4, nthread=None, objective='reg:logistic', random_state=0,\n",
              "             reg_alpha=0, reg_lambda=1, scale_pos_weight=1, seed=None,\n",
              "             silent=None, subsample=0.9, verbosity=1)"
            ]
          },
          "metadata": {
            "tags": []
          },
          "execution_count": 19
        }
      ]
    },
    {
      "cell_type": "code",
      "metadata": {
        "id": "4nJozH92-Tzx",
        "outputId": "5d46270a-2ddd-4425-ac67-c3fdcab8a638",
        "colab": {
          "base_uri": "https://localhost:8080/"
        }
      },
      "source": [
        "prediction = model.predict(Xtest)\n",
        "roc_auc_score(Ytest, prediction)"
      ],
      "execution_count": null,
      "outputs": [
        {
          "output_type": "execute_result",
          "data": {
            "text/plain": [
              "0.8881283625247471"
            ]
          },
          "metadata": {
            "tags": []
          },
          "execution_count": 20
        }
      ]
    },
    {
      "cell_type": "code",
      "metadata": {
        "id": "t8v3UywoXxi5"
      },
      "source": [
        "pred_filename = \"to_predict.csv.zip\"\n",
        "\n",
        "with zipfile.ZipFile(pred_filename, 'r') as zip_ref:\n",
        "    zip_ref.extractall()\n",
        "\n",
        "file_name = \"to_predict.csv\"\n",
        "df_pred = pd.read_csv(file_name)\n"
      ],
      "execution_count": null,
      "outputs": []
    },
    {
      "cell_type": "code",
      "metadata": {
        "id": "75Wuoov1Xxfw"
      },
      "source": [
        "prediction = model.predict(df_pred.to_numpy()[:, 1:])\n",
        "\n",
        "# pred = prediction[:, 1]"
      ],
      "execution_count": null,
      "outputs": []
    },
    {
      "cell_type": "code",
      "metadata": {
        "id": "medcwYUhXxct"
      },
      "source": [
        "# prediction.shape\n",
        "df_pred = pd.DataFrame(data = prediction,  \n",
        "                  index = df_pred.iloc[ : ,0]) "
      ],
      "execution_count": null,
      "outputs": []
    },
    {
      "cell_type": "code",
      "metadata": {
        "id": "f3V1_RGNYBJf"
      },
      "source": [
        "df_pred.rename(columns={0: \"T\"}, inplace = True)"
      ],
      "execution_count": null,
      "outputs": []
    },
    {
      "cell_type": "code",
      "metadata": {
        "id": "bFpNzWPnYDGe"
      },
      "source": [
        "df_pred.to_csv('output.csv')"
      ],
      "execution_count": null,
      "outputs": []
    },
    {
      "cell_type": "code",
      "metadata": {
        "id": "YtjpCOpttwTV",
        "outputId": "abd6640c-a32b-4925-ab16-f0cda0bafc09",
        "colab": {
          "base_uri": "https://localhost:8080/",
          "height": 183
        }
      },
      "source": [
        "import pickle\n",
        "pickle.dump(model,open('model_xgbregressor_best','wb'))"
      ],
      "execution_count": null,
      "outputs": [
        {
          "output_type": "error",
          "ename": "NameError",
          "evalue": "ignored",
          "traceback": [
            "\u001b[0;31m---------------------------------------------------------------------------\u001b[0m",
            "\u001b[0;31mNameError\u001b[0m                                 Traceback (most recent call last)",
            "\u001b[0;32m<ipython-input-1-ed9b940b7f5d>\u001b[0m in \u001b[0;36m<module>\u001b[0;34m()\u001b[0m\n\u001b[1;32m      1\u001b[0m \u001b[0;32mimport\u001b[0m \u001b[0mpickle\u001b[0m\u001b[0;34m\u001b[0m\u001b[0;34m\u001b[0m\u001b[0m\n\u001b[0;32m----> 2\u001b[0;31m \u001b[0mpickle\u001b[0m\u001b[0;34m.\u001b[0m\u001b[0mdump\u001b[0m\u001b[0;34m(\u001b[0m\u001b[0mmodel\u001b[0m\u001b[0;34m,\u001b[0m\u001b[0mopen\u001b[0m\u001b[0;34m(\u001b[0m\u001b[0;34m'model_xgbregressor_best'\u001b[0m\u001b[0;34m,\u001b[0m\u001b[0;34m'wb'\u001b[0m\u001b[0;34m)\u001b[0m\u001b[0;34m)\u001b[0m\u001b[0;34m\u001b[0m\u001b[0;34m\u001b[0m\u001b[0m\n\u001b[0m",
            "\u001b[0;31mNameError\u001b[0m: name 'model' is not defined"
          ]
        }
      ]
    },
    {
      "cell_type": "code",
      "metadata": {
        "id": "OqaPQliGJsqd"
      },
      "source": [
        "import pickle\n",
        "pickle.dump(model,open('model_xgbregressor2','wb'))"
      ],
      "execution_count": null,
      "outputs": []
    }
  ]
}